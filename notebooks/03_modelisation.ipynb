{
 "cells": [
  {
   "cell_type": "code",
   "execution_count": 1,
   "metadata": {
    "id": "qiAgrWQt8vsS"
   },
   "outputs": [],
   "source": [
    "import os\n",
    "import pickle"
   ]
  },
  {
   "cell_type": "code",
   "execution_count": 2,
   "metadata": {},
   "outputs": [],
   "source": [
    "# from google.colab import drive\n",
    "# drive.mount('/content/drive')"
   ]
  },
  {
   "cell_type": "code",
   "execution_count": 3,
   "metadata": {
    "id": "-C3FZCqGIjTL"
   },
   "outputs": [],
   "source": [
    "# Charger un seul embedding\n",
    "\n",
    "embeddings_path = \"../data/embeddings\"\n",
    "file_name = 'emb_sbert_multi.pkl'\n",
    "\n",
    "with open(os.path.join(embeddings_path, file_name), 'rb') as f:\n",
    "    embedding = pickle.load(f)"
   ]
  },
  {
   "cell_type": "code",
   "execution_count": 4,
   "metadata": {
    "id": "7aYMobOUH2WU"
   },
   "outputs": [],
   "source": [
    "# Charger tous les embeddings\n",
    "\n",
    "embeddings_path = \"../data/embeddings\"\n",
    "embeddings = {}\n",
    "\n",
    "for file_name in os.listdir(embeddings_path):\n",
    "    with open(os.path.join(embeddings_path, file_name), 'rb') as f:\n",
    "        emb_name = file_name.split('.')[0]\n",
    "        embeddings[emb_name] = pickle.load(f)"
   ]
  }
 ],
 "metadata": {
  "colab": {
   "provenance": []
  },
  "kernelspec": {
   "display_name": "Python 3 (ipykernel)",
   "language": "python",
   "name": "python3"
  },
  "language_info": {
   "codemirror_mode": {
    "name": "ipython",
    "version": 3
   },
   "file_extension": ".py",
   "mimetype": "text/x-python",
   "name": "python",
   "nbconvert_exporter": "python",
   "pygments_lexer": "ipython3",
   "version": "3.12.3"
  }
 },
 "nbformat": 4,
 "nbformat_minor": 4
}
