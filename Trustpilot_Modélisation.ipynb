{
  "nbformat": 4,
  "nbformat_minor": 0,
  "metadata": {
    "colab": {
      "provenance": [],
      "include_colab_link": true
    },
    "kernelspec": {
      "name": "python3",
      "display_name": "Python 3"
    },
    "language_info": {
      "name": "python"
    }
  },
  "cells": [
    {
      "cell_type": "markdown",
      "metadata": {
        "id": "view-in-github",
        "colab_type": "text"
      },
      "source": [
        "<a href=\"https://colab.research.google.com/github/laurinecharbonnier/trustpilot/blob/main/Trustpilot_Mod%C3%A9lisation.ipynb\" target=\"_parent\"><img src=\"https://colab.research.google.com/assets/colab-badge.svg\" alt=\"Open In Colab\"/></a>"
      ]
    },
    {
      "cell_type": "code",
      "execution_count": null,
      "metadata": {
        "id": "qiAgrWQt8vsS"
      },
      "outputs": [],
      "source": [
        "import os\n",
        "import pickle"
      ]
    },
    {
      "cell_type": "code",
      "source": [
        "from google.colab import drive\n",
        "drive.mount('/content/drive')\n",
        "\n",
        "project_path = 'drive/MyDrive/TrustPilot/'"
      ],
      "metadata": {
        "colab": {
          "base_uri": "https://localhost:8080/"
        },
        "id": "1-PjaTV-Hzcz",
        "outputId": "1220d36c-c3a6-4f04-9de6-feaad9625128"
      },
      "execution_count": null,
      "outputs": [
        {
          "output_type": "stream",
          "name": "stdout",
          "text": [
            "Mounted at /content/drive\n"
          ]
        }
      ]
    },
    {
      "cell_type": "code",
      "source": [
        "# Charger un seul embedding\n",
        "\n",
        "embeddings_path = os.path.join(project_path, 'embeddings')\n",
        "file_name = 'emb_sbert_multi.pkl'\n",
        "\n",
        "with open(os.path.join(embeddings_path, file_name), 'rb') as f:\n",
        "    embedding = pickle.load(f)"
      ],
      "metadata": {
        "id": "-C3FZCqGIjTL"
      },
      "execution_count": null,
      "outputs": []
    },
    {
      "cell_type": "code",
      "source": [
        "# Charger tous les embeddings\n",
        "\n",
        "embeddings_path = os.path.join(project_path, 'embeddings')\n",
        "embeddings = {}\n",
        "\n",
        "for file_name in os.listdir(embeddings_path):\n",
        "    with open(os.path.join(embeddings_path, file_name), 'rb') as f:\n",
        "        emb_name = file_name.split('.')[0]\n",
        "        embeddings[emb_name] = pickle.load(f)"
      ],
      "metadata": {
        "id": "7aYMobOUH2WU"
      },
      "execution_count": null,
      "outputs": []
    },
    {
      "cell_type": "code",
      "source": [
        "tfidf_path = \"drive/MyDrive/TrustPilot/embeddings/emb_tfidf.pkl\"\n",
        "vectorizer_path = \"drive/MyDrive/TrustPilot/embeddings/tfidf_vectorizer.pkl\"\n",
        "\n",
        "# Load the TF-IDF matrix\n",
        "with open(tfidf_path, \"rb\") as f:\n",
        "    tfidf_embeddings = pickle.load(f)\n",
        "\n",
        "print(\"TF-IDF embeddings loaded. Shape:\", tfidf_embeddings.shape)"
      ],
      "metadata": {
        "colab": {
          "base_uri": "https://localhost:8080/"
        },
        "id": "re1gUJ4ra7OO",
        "outputId": "338cadb6-2231-4f60-f44f-2ba1ea46bf9e"
      },
      "execution_count": null,
      "outputs": [
        {
          "output_type": "stream",
          "name": "stdout",
          "text": [
            "TF-IDF embeddings loaded. Shape: (15859, 3689)\n"
          ]
        }
      ]
    },
    {
      "cell_type": "code",
      "source": [
        "from sklearn.decomposition import LatentDirichletAllocation\n",
        "lda = LatentDirichletAllocation(n_components=20, random_state=42)\n",
        "# Fit the model to the TF-IDF Vectors\n",
        "lda.fit(tfidf_embeddings)\n",
        "\n",
        "# print the topics\n",
        "print(lda.components_)"
      ],
      "metadata": {
        "colab": {
          "base_uri": "https://localhost:8080/"
        },
        "id": "vdlvjP09b9PP",
        "outputId": "89c5ae67-4b99-4c72-c62d-2467c34c8662"
      },
      "execution_count": null,
      "outputs": [
        {
          "output_type": "stream",
          "name": "stdout",
          "text": [
            "[[0.05       2.46461483 0.05       ... 0.05       0.05       0.05      ]\n",
            " [0.05       0.05       0.05       ... 0.05       0.05       0.05      ]\n",
            " [0.05       0.05       0.05       ... 0.05       0.05       0.05      ]\n",
            " ...\n",
            " [0.05       0.05       0.05       ... 0.05       0.05       0.05      ]\n",
            " [0.05       0.05       0.05       ... 2.5836378  0.05       0.05      ]\n",
            " [0.05       0.05       0.05       ... 0.05       0.05       0.05      ]]\n"
          ]
        }
      ]
    },
    {
      "cell_type": "code",
      "source": [
        "def print_top_words(model, feature_names, n_top_words=10):\n",
        "    for topic_idx, topic in enumerate(model.components_):\n",
        "        top_features = [feature_names[i] for i in topic.argsort()[:-n_top_words - 1:-1]]\n",
        "        print(f\"Topic {topic_idx + 1}: {', '.join(top_features)}\")"
      ],
      "metadata": {
        "id": "UgUKOinDc_dZ"
      },
      "execution_count": null,
      "outputs": []
    },
    {
      "cell_type": "code",
      "source": [
        "vectorizer_path = \"drive/MyDrive/TrustPilot/embeddings/tfidf_vectorizer.pkl\"\n",
        "with open(vectorizer_path, \"rb\") as f:\n",
        "    vectorizer = pickle.load(f)"
      ],
      "metadata": {
        "id": "BjeYqRcmeAAR"
      },
      "execution_count": null,
      "outputs": []
    },
    {
      "cell_type": "code",
      "source": [
        "Dfeature_names = vectorizer.get_feature_names_out()\n",
        "print_top_words(lda, feature_names, n_top_words=10)"
      ],
      "metadata": {
        "colab": {
          "base_uri": "https://localhost:8080/"
        },
        "id": "kt7CKhWXeX3Q",
        "outputId": "28417fac-bcd5-4e24-de0c-61f1d026baf1"
      },
      "execution_count": null,
      "outputs": [
        {
          "output_type": "stream",
          "name": "stdout",
          "text": [
            "Topic 1: commande, colis, livraison, être, recevoir, fois, livrer, article, livreur, commander\n",
            "Topic 2: décevoir, identique, una, con, incomplet, qualité, non, combler, che, show\n",
            "Topic 3: satisfaisant, sérieux, apprécier, qualité, site, conseiller, produit, endommager, made, coton\n",
            "Topic 4: prévoir, recevoir, date, commande, arriver, livrer, colis, bien, produit, rapidement\n",
            "Topic 5: conforme, attente, correspondre, description, produit, rapide, satisfaire, livraison, photo, commande\n",
            "Topic 6: qualité, bijou, rapport, prix, joli, beal, bon, superbe, irl, produit\n",
            "Topic 7: muy, todo, montre, fonctionner, boîte, las, gamme, déception, matériel, valoir\n",
            "Topic 8: long, livraison, délai, content, trop, produit, respecter, bon, commande, excellent\n",
            "Topic 9: correct, article, déçu, robe, qualité, taille, mauvais, produit, commander, recevoir\n",
            "Topic 10: rapide, livraison, super, top, produit, muito, bon, qualité, soigner, não\n",
            "Topic 11: carton, cassé, parfaitement, abîmer, emballage, colis, signaler, arriver, abîmé, réception\n",
            "Topic 12: conformer, point, delai, livraison, qualite, article, relais, relai, respect, bon\n",
            "Topic 13: taille, robe, petit, trop, grand, adorer, vêtement, qualité, tailler, décevoir\n",
            "Topic 14: frais, site, commande, article, prix, vente, livraison, produit, client, colis\n",
            "Topic 15: ravir, bien, passer, boucle, bracelet, oreille, achat, commande, décevoir, recevoir\n",
            "Topic 16: commande, client, service, site, vente, recevoir, remboursement, aucun, colis, être\n",
            "Topic 17: sac, rien, redire, couleur, paire, chaussure, habitude, magnifique, nickel, commander\n",
            "Topic 18: parfait, rapidité, recommander, qualité, prix, rien, produit, plaisir, original, couette\n",
            "Topic 19: satisfait, satisfaite, commande, achat, bel, aimer, qualité, produit, confortable, bien\n",
            "Topic 20: bon, descriptif, ensemble, produit, qualité, consegna, prodotti, molto, spedizione, come\n"
          ]
        }
      ]
    }
  ]
}